{
 "cells": [
  {
   "cell_type": "code",
   "execution_count": 1,
   "id": "52e3f123",
   "metadata": {
    "_cell_guid": "b1076dfc-b9ad-4769-8c92-a6c4dae69d19",
    "_uuid": "8f2839f25d086af736a60e9eeb907d3b93b6e0e5",
    "execution": {
     "iopub.execute_input": "2024-03-28T12:01:17.514245Z",
     "iopub.status.busy": "2024-03-28T12:01:17.513714Z",
     "iopub.status.idle": "2024-03-28T12:02:36.340108Z",
     "shell.execute_reply": "2024-03-28T12:02:36.338333Z"
    },
    "papermill": {
     "duration": 78.834859,
     "end_time": "2024-03-28T12:02:36.343471",
     "exception": false,
     "start_time": "2024-03-28T12:01:17.508612",
     "status": "completed"
    },
    "tags": []
   },
   "outputs": [
    {
     "name": "stdout",
     "output_type": "stream",
     "text": [
      "--2024-03-28 12:01:18--  https://cernbox.cern.ch/remote.php/dav/public-files/ZUHveJKajnZNwTA/QCDToGGQQ_IMGjet_RH1all_jet0_run0_n36272.test.snappy.parquet\r\n",
      "Resolving cernbox.cern.ch (cernbox.cern.ch)... 137.138.120.151, 128.142.170.17, 128.142.53.28, ...\r\n",
      "Connecting to cernbox.cern.ch (cernbox.cern.ch)|137.138.120.151|:443... connected.\r\n",
      "HTTP request sent, awaiting response... 200 OK\r\n",
      "Length: 184115523 (176M) [application/octet-stream]\r\n",
      "Saving to: 'QCDToGGQQ_IMGjet_RH1all_jet0_run0_n36272.test.snappy.parquet'\r\n",
      "\r\n",
      "QCDToGGQQ_IMGjet_RH 100%[===================>] 175.59M  14.8MB/s    in 15s     \r\n",
      "\r\n",
      "2024-03-28 12:01:39 (11.9 MB/s) - 'QCDToGGQQ_IMGjet_RH1all_jet0_run0_n36272.test.snappy.parquet' saved [184115523/184115523]\r\n",
      "\r\n",
      "--2024-03-28 12:01:40--  https://cernbox.cern.ch/remote.php/dav/public-files/ZUHveJKajnZNwTA/QCDToGGQQ_IMGjet_RH1all_jet0_run1_n47540.test.snappy.parquet\r\n",
      "Resolving cernbox.cern.ch (cernbox.cern.ch)... 137.138.120.151, 128.142.170.17, 128.142.53.28, ...\r\n",
      "Connecting to cernbox.cern.ch (cernbox.cern.ch)|137.138.120.151|:443... connected.\r\n",
      "HTTP request sent, awaiting response... 200 OK\r\n",
      "Length: 239405459 (228M) [application/octet-stream]\r\n",
      "Saving to: 'QCDToGGQQ_IMGjet_RH1all_jet0_run1_n47540.test.snappy.parquet'\r\n",
      "\r\n",
      "QCDToGGQQ_IMGjet_RH 100%[===================>] 228.31M  13.3MB/s    in 19s     \r\n",
      "\r\n",
      "2024-03-28 12:02:06 (11.8 MB/s) - 'QCDToGGQQ_IMGjet_RH1all_jet0_run1_n47540.test.snappy.parquet' saved [239405459/239405459]\r\n",
      "\r\n",
      "--2024-03-28 12:02:07--  https://cernbox.cern.ch/remote.php/dav/public-files/ZUHveJKajnZNwTA/QCDToGGQQ_IMGjet_RH1all_jet0_run2_n55494.test.snappy.parquet\r\n",
      "Resolving cernbox.cern.ch (cernbox.cern.ch)... 137.138.120.151, 128.142.170.17, 128.142.53.28, ...\r\n",
      "Connecting to cernbox.cern.ch (cernbox.cern.ch)|137.138.120.151|:443... connected.\r\n",
      "HTTP request sent, awaiting response... 200 OK\r\n",
      "Length: 300971325 (287M) [application/octet-stream]\r\n",
      "Saving to: 'QCDToGGQQ_IMGjet_RH1all_jet0_run2_n55494.test.snappy.parquet'\r\n",
      "\r\n",
      "QCDToGGQQ_IMGjet_RH 100%[===================>] 287.03M  13.5MB/s    in 23s     \r\n",
      "\r\n",
      "2024-03-28 12:02:36 (12.5 MB/s) - 'QCDToGGQQ_IMGjet_RH1all_jet0_run2_n55494.test.snappy.parquet' saved [300971325/300971325]\r\n",
      "\r\n"
     ]
    }
   ],
   "source": [
    "!wget https://cernbox.cern.ch/remote.php/dav/public-files/ZUHveJKajnZNwTA/QCDToGGQQ_IMGjet_RH1all_jet0_run0_n36272.test.snappy.parquet\n",
    "!wget https://cernbox.cern.ch/remote.php/dav/public-files/ZUHveJKajnZNwTA/QCDToGGQQ_IMGjet_RH1all_jet0_run1_n47540.test.snappy.parquet\n",
    "!wget https://cernbox.cern.ch/remote.php/dav/public-files/ZUHveJKajnZNwTA/QCDToGGQQ_IMGjet_RH1all_jet0_run2_n55494.test.snappy.parquet"
   ]
  },
  {
   "cell_type": "code",
   "execution_count": 2,
   "id": "e6b6e707",
   "metadata": {
    "execution": {
     "iopub.execute_input": "2024-03-28T12:02:36.411180Z",
     "iopub.status.busy": "2024-03-28T12:02:36.410704Z",
     "iopub.status.idle": "2024-03-28T12:12:42.531099Z",
     "shell.execute_reply": "2024-03-28T12:12:42.529378Z"
    },
    "papermill": {
     "duration": 606.194196,
     "end_time": "2024-03-28T12:12:42.570540",
     "exception": false,
     "start_time": "2024-03-28T12:02:36.376344",
     "status": "completed"
    },
    "tags": []
   },
   "outputs": [
    {
     "name": "stdout",
     "output_type": "stream",
     "text": [
      "Data generation completed\n",
      "Time: 605.7412676811218 seconds\n"
     ]
    }
   ],
   "source": [
    "import time\n",
    "import numpy as np\n",
    "import cv2\n",
    "import pyarrow.parquet as pq\n",
    "import os\n",
    "\n",
    "start_time = time.time()\n",
    "\n",
    "def generate(pf, path, ab):\n",
    "    record_batch = pf.iter_batches(batch_size=4*1024)\n",
    "    while True:\n",
    "        try:\n",
    "            batch = next(record_batch)\n",
    "            ab = transform(batch, path, ab)\n",
    "        except StopIteration:\n",
    "            return ab\n",
    "\n",
    "def transform(batch, path, ab):\n",
    "    p = batch.to_pandas()\n",
    "    im = np.array(np.array(np.array(p.iloc[:, 0].tolist()).tolist()).tolist())\n",
    "    meta = np.array(p.iloc[:, 3])\n",
    "    return saver(im, meta, path, ab)\n",
    "\n",
    "def saver(im, meta, path, ab):\n",
    "    alpha, beta = ab\n",
    "    im[im < 1.e-3] = 0  \n",
    "    for i in range(3): \n",
    "        im[:, i, :, :] = (im[:, i, :, :] - im[:, i, :, :].mean()) / (im[:, i, :, :].std())\n",
    "        im[:, i, :, :] = np.clip(im[:, i, :, :], 0, 500 * im[:, i, :, :].std())\n",
    "        im[:, i, :, :] = (im[:, i, :, :] / im[:, i, :, :].max())\n",
    "    for i in range(meta.shape[0]):\n",
    "        img = im[i].astype(np.uint8).transpose(1, 2, 0)\n",
    "        if meta[i] == 0:\n",
    "            impath = os.path.join(path, \"0\", f\"{alpha}.png\")\n",
    "            alpha += 1\n",
    "        elif meta[i] == 1:\n",
    "            impath = os.path.join(path, \"1\", f\"{beta}.png\")\n",
    "            beta += 1\n",
    "        cv2.imwrite(impath, img)\n",
    "    return [alpha, beta]\n",
    "\n",
    "def runner(source_files, target_directory):\n",
    "    ab = [0, 0]\n",
    "    for file in source_files:\n",
    "        parquet_file_path = os.path.join('/kaggle/working/', file)\n",
    "        ab = generate(pq.ParquetFile(parquet_file_path), target_directory, ab)\n",
    "    print(\"Data generation completed\")\n",
    "\n",
    "input_files = [\n",
    "    'QCDToGGQQ_IMGjet_RH1all_jet0_run0_n36272.test.snappy.parquet',\n",
    "    'QCDToGGQQ_IMGjet_RH1all_jet0_run1_n47540.test.snappy.parquet',\n",
    "    'QCDToGGQQ_IMGjet_RH1all_jet0_run2_n55494.test.snappy.parquet'\n",
    "]\n",
    "\n",
    "output_directory = '/kaggle/working/output/'\n",
    "\n",
    "# Create output directories\n",
    "for class_label in ['0', '1']:\n",
    "    os.makedirs(os.path.join(output_directory, class_label), exist_ok=True)\n",
    "\n",
    "runner(source_files=input_files, target_directory=output_directory)\n",
    "\n",
    "end_time = time.time()\n",
    "Running_time = end_time - start_time\n",
    "print(f\"Time: {Running_time} seconds\")"
   ]
  },
  {
   "cell_type": "code",
   "execution_count": null,
   "id": "85fafc20",
   "metadata": {
    "papermill": {
     "duration": 0.029621,
     "end_time": "2024-03-28T12:12:42.632321",
     "exception": false,
     "start_time": "2024-03-28T12:12:42.602700",
     "status": "completed"
    },
    "tags": []
   },
   "outputs": [],
   "source": []
  }
 ],
 "metadata": {
  "kaggle": {
   "accelerator": "none",
   "dataSources": [],
   "dockerImageVersionId": 30665,
   "isGpuEnabled": false,
   "isInternetEnabled": true,
   "language": "python",
   "sourceType": "notebook"
  },
  "kernelspec": {
   "display_name": "Python 3",
   "language": "python",
   "name": "python3"
  },
  "language_info": {
   "codemirror_mode": {
    "name": "ipython",
    "version": 3
   },
   "file_extension": ".py",
   "mimetype": "text/x-python",
   "name": "python",
   "nbconvert_exporter": "python",
   "pygments_lexer": "ipython3",
   "version": "3.10.13"
  },
  "papermill": {
   "default_parameters": {},
   "duration": 689.910002,
   "end_time": "2024-03-28T12:12:43.794704",
   "environment_variables": {},
   "exception": null,
   "input_path": "__notebook__.ipynb",
   "output_path": "__notebook__.ipynb",
   "parameters": {},
   "start_time": "2024-03-28T12:01:13.884702",
   "version": "2.5.0"
  }
 },
 "nbformat": 4,
 "nbformat_minor": 5
}
