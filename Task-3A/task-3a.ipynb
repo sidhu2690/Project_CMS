{
 "cells": [
  {
   "cell_type": "code",
   "execution_count": 1,
   "id": "ad82dc94",
   "metadata": {
    "execution": {
     "iopub.execute_input": "2024-03-30T05:58:51.970128Z",
     "iopub.status.busy": "2024-03-30T05:58:51.969803Z",
     "iopub.status.idle": "2024-03-30T06:01:38.345525Z",
     "shell.execute_reply": "2024-03-30T06:01:38.344594Z"
    },
    "papermill": {
     "duration": 166.384356,
     "end_time": "2024-03-30T06:01:38.347534",
     "exception": false,
     "start_time": "2024-03-30T05:58:51.963178",
     "status": "completed"
    },
    "tags": []
   },
   "outputs": [
    {
     "name": "stdout",
     "output_type": "stream",
     "text": [
      "--2024-03-30 05:58:52--  https://cernbox.cern.ch/remote.php/dav/public-files/zUvpkKhXIp0MJ0g/top_gun_opendata_0.parquet\r\n",
      "Resolving cernbox.cern.ch (cernbox.cern.ch)... 128.142.170.17, 128.142.53.28, 128.142.53.35, ...\r\n",
      "Connecting to cernbox.cern.ch (cernbox.cern.ch)|128.142.170.17|:443... connected.\r\n",
      "HTTP request sent, awaiting response... 200 OK\r\n",
      "Length: 1171158319 (1.1G) [application/octet-stream]\r\n",
      "Saving to: 'top_gun_opendata_0.parquet'\r\n",
      "\r\n",
      "top_gun_opendata_0. 100%[===================>]   1.09G  20.8MB/s    in 56s     \r\n",
      "\r\n",
      "2024-03-30 06:00:17 (20.0 MB/s) - 'top_gun_opendata_0.parquet' saved [1171158319/1171158319]\r\n",
      "\r\n",
      "--2024-03-30 06:00:18--  https://cernbox.cern.ch/remote.php/dav/public-files/zUvpkKhXIp0MJ0g/top_gun_opendata_1.parquet\r\n",
      "Resolving cernbox.cern.ch (cernbox.cern.ch)... 128.142.53.35, 128.142.53.28, 137.138.120.151, ...\r\n",
      "Connecting to cernbox.cern.ch (cernbox.cern.ch)|128.142.53.35|:443... connected.\r\n",
      "HTTP request sent, awaiting response... 200 OK\r\n",
      "Length: 1170397881 (1.1G) [application/octet-stream]\r\n",
      "Saving to: 'top_gun_opendata_1.parquet'\r\n",
      "\r\n",
      "top_gun_opendata_1. 100%[===================>]   1.09G  19.4MB/s    in 57s     \r\n",
      "\r\n",
      "2024-03-30 06:01:38 (19.5 MB/s) - 'top_gun_opendata_1.parquet' saved [1170397881/1170397881]\r\n",
      "\r\n"
     ]
    }
   ],
   "source": [
    "#Downloading the data\n",
    "!wget https://cernbox.cern.ch/remote.php/dav/public-files/zUvpkKhXIp0MJ0g/top_gun_opendata_0.parquet\n",
    "!wget https://cernbox.cern.ch/remote.php/dav/public-files/zUvpkKhXIp0MJ0g/top_gun_opendata_1.parquet"
   ]
  },
  {
   "cell_type": "code",
   "execution_count": 2,
   "id": "09a5b2f7",
   "metadata": {
    "execution": {
     "iopub.execute_input": "2024-03-30T06:01:38.431173Z",
     "iopub.status.busy": "2024-03-30T06:01:38.430870Z",
     "iopub.status.idle": "2024-03-30T06:01:48.115726Z",
     "shell.execute_reply": "2024-03-30T06:01:48.114949Z"
    },
    "papermill": {
     "duration": 9.728214,
     "end_time": "2024-03-30T06:01:48.117925",
     "exception": false,
     "start_time": "2024-03-30T06:01:38.389711",
     "status": "completed"
    },
    "tags": []
   },
   "outputs": [],
   "source": [
    "#Importing the necessary libraries\n",
    "import torch\n",
    "import torch.nn as nn\n",
    "import pyarrow.parquet as pq\n",
    "import pandas as pd\n",
    "import numpy as np\n",
    "import matplotlib.pyplot as plt\n",
    "from statistics import mean\n",
    "from sklearn.model_selection import train_test_split\n",
    "import torch.optim as optim\n",
    "from torch.utils.data import Dataset\n",
    "import torch.nn.functional as F\n",
    "from torch.utils.data import DataLoader, TensorDataset\n",
    "from torchvision import transforms, models\n",
    "from sklearn.metrics import mean_squared_error\n",
    "from torch.optim.lr_scheduler import CosineAnnealingLR\n",
    "from torch.optim import lr_scheduler\n",
    "from sklearn.metrics import mean_squared_error\n",
    "from sklearn.metrics import mean_absolute_error\n",
    "import os"
   ]
  },
  {
   "cell_type": "code",
   "execution_count": 3,
   "id": "b0f9f0c2",
   "metadata": {
    "execution": {
     "iopub.execute_input": "2024-03-30T06:01:48.202541Z",
     "iopub.status.busy": "2024-03-30T06:01:48.201904Z",
     "iopub.status.idle": "2024-03-30T06:01:48.304336Z",
     "shell.execute_reply": "2024-03-30T06:01:48.303304Z"
    },
    "papermill": {
     "duration": 0.146028,
     "end_time": "2024-03-30T06:01:48.306396",
     "exception": false,
     "start_time": "2024-03-30T06:01:48.160368",
     "status": "completed"
    },
    "tags": []
   },
   "outputs": [],
   "source": [
    "#Setting up the environment\n",
    "def setup_device():\n",
    "    if torch.cuda.is_available():\n",
    "        num_gpus = torch.cuda.device_count()\n",
    "        if num_gpus <= 1:\n",
    "            device = torch.device(\"cuda:0\")\n",
    "        else:\n",
    "            device = torch.device(\"cuda\")\n",
    "    else:\n",
    "        device = torch.device(\"cpu\")\n",
    "    return device\n",
    "\n",
    "def setup_precision(mix_precision=False):\n",
    "    if mix_precision:\n",
    "        scaler = torch.cuda.amp.GradScaler()\n",
    "    else:\n",
    "        pass  \n",
    "\n",
    "if __name__ == \"__main__\":\n",
    "    device = setup_device()\n",
    "    MIX = False  \n",
    "    setup_precision(mix_precision=MIX)"
   ]
  },
  {
   "cell_type": "code",
   "execution_count": 4,
   "id": "670003d1",
   "metadata": {
    "execution": {
     "iopub.execute_input": "2024-03-30T06:01:48.389358Z",
     "iopub.status.busy": "2024-03-30T06:01:48.389007Z",
     "iopub.status.idle": "2024-03-30T06:04:50.699286Z",
     "shell.execute_reply": "2024-03-30T06:04:50.693644Z"
    },
    "papermill": {
     "duration": 182.355548,
     "end_time": "2024-03-30T06:04:50.702994",
     "exception": false,
     "start_time": "2024-03-30T06:01:48.347446",
     "status": "completed"
    },
    "tags": []
   },
   "outputs": [],
   "source": [
    "#Processing the data\n",
    "def process_data(file_path, chunk_size=4):\n",
    "    datasets = []\n",
    "    parquet_file = pq.ParquetFile(file_path)\n",
    "    total_rows = parquet_file.metadata.num_rows\n",
    "    for i in range(0, total_rows, chunk_size):\n",
    "        chunk = parquet_file.read_row_group(i)\n",
    "        dataset = chunk.to_pandas()\n",
    "        condition = (dataset['m'].between(0, 255)) & (dataset['pt'].between(320, 1499))\n",
    "        filtered_dataset = dataset[condition]\n",
    "        if not filtered_dataset.empty:\n",
    "            datasets.append(filtered_dataset)\n",
    "    dataset = pd.concat(datasets, ignore_index=True)\n",
    "    dataset[\"X_jet\"] = dataset[\"X_jet\"].apply(lambda data: np.array([np.stack(np.stack(data)[i], axis=-1) for i in range(4)]).reshape((125, 125, 4)))\n",
    "    return dataset\n",
    "\n",
    "parquet_file_path = '/kaggle/working/top_gun_opendata_0.parquet'\n",
    "dataset = process_data(parquet_file_path)"
   ]
  },
  {
   "cell_type": "code",
   "execution_count": 5,
   "id": "b69495a6",
   "metadata": {
    "execution": {
     "iopub.execute_input": "2024-03-30T06:04:50.869974Z",
     "iopub.status.busy": "2024-03-30T06:04:50.869153Z",
     "iopub.status.idle": "2024-03-30T06:04:52.421517Z",
     "shell.execute_reply": "2024-03-30T06:04:52.420612Z"
    },
    "papermill": {
     "duration": 1.65166,
     "end_time": "2024-03-30T06:04:52.423810",
     "exception": false,
     "start_time": "2024-03-30T06:04:50.772150",
     "status": "completed"
    },
    "tags": []
   },
   "outputs": [
    {
     "data": {
      "image/png": "[encoded data removed]",
      "text/plain": [
       "<Figure size 1600x400 with 4 Axes>"
      ]
     },
     "metadata": {},
     "output_type": "display_data"
    }
   ],
   "source": [
    "#Before processing\n",
    "image_data = dataset[\"X_jet\"][100]\n",
    "fig, axes = plt.subplots(1, 4, figsize=(16, 4))  \n",
    "for i in range(image_data.shape[2]):\n",
    "    ax = axes[i]  \n",
    "    channel_data = image_data[:, :, i]  \n",
    "    ax.imshow(channel_data, cmap='viridis')  \n",
    "    ax.set_title(f'Channel {i+1}') \n",
    "plt.tight_layout()  \n",
    "plt.show()"
   ]
  },
  {
   "cell_type": "code",
   "execution_count": 6,
   "id": "e972ff79",
   "metadata": {
    "execution": {
     "iopub.execute_input": "2024-03-30T06:04:52.507277Z",
     "iopub.status.busy": "2024-03-30T06:04:52.506950Z",
     "iopub.status.idle": "2024-03-30T06:06:25.753424Z",
     "shell.execute_reply": "2024-03-30T06:06:25.752567Z"
    },
    "papermill": {
     "duration": 93.290693,
     "end_time": "2024-03-30T06:06:25.755912",
     "exception": false,
     "start_time": "2024-03-30T06:04:52.465219",
     "status": "completed"
    },
    "tags": []
   },
   "outputs": [],
   "source": [
    "#Process the images- MinMax scaling\n",
    "def process_image(img):\n",
    "    img[img < 1.e-3] = 0\n",
    "    for c in range(img.shape[2]):  \n",
    "        img[:, :, c] = (img[:, :, c] - img[:, :, c].mean()) / (img[:, :, c].std())\n",
    "        channel = img[:, :, c]\n",
    "        channel = np.clip(channel, 0, 500 * channel.std())\n",
    "        channel = 255 * channel / channel.max()\n",
    "        img[:, :, c] = channel\n",
    "    img = img.astype(np.uint8)\n",
    "    return img\n",
    "\n",
    "for i in range(len(dataset)):\n",
    "    for j in range(4):\n",
    "        img = dataset[\"X_jet\"][i][:, :, :j+1]  \n",
    "        processed_img = process_image(img)\n",
    "        dataset[\"X_jet\"][i][:, :, :j+1] = processed_img"
   ]
  },
  {
   "cell_type": "code",
   "execution_count": 7,
   "id": "8fe0263b",
   "metadata": {
    "execution": {
     "iopub.execute_input": "2024-03-30T06:06:25.840230Z",
     "iopub.status.busy": "2024-03-30T06:06:25.839923Z",
     "iopub.status.idle": "2024-03-30T06:06:25.848194Z",
     "shell.execute_reply": "2024-03-30T06:06:25.847331Z"
    },
    "papermill": {
     "duration": 0.052015,
     "end_time": "2024-03-30T06:06:25.850108",
     "exception": false,
     "start_time": "2024-03-30T06:06:25.798093",
     "status": "completed"
    },
    "tags": []
   },
   "outputs": [],
   "source": [
    "#Processing the data\n",
    "def process_test_data(file_path, chunk_size=18):\n",
    "    datasets = []\n",
    "    parquet_file = pq.ParquetFile(file_path)\n",
    "    total_rows = parquet_file.metadata.num_rows\n",
    "    for i in range(0, total_rows, chunk_size):\n",
    "        chunk = parquet_file.read_row_group(i)\n",
    "        dataset = chunk.to_pandas()\n",
    "        condition = (dataset['m'].between(0, 255)) & (dataset['pt'].between(320, 1499))\n",
    "        filtered_dataset = dataset[condition]\n",
    "        if not filtered_dataset.empty:\n",
    "            datasets.append(filtered_dataset)\n",
    "    dataset = pd.concat(datasets, ignore_index=True)\n",
    "    dataset[\"X_jet\"] = dataset[\"X_jet\"].apply(lambda data: np.array([np.stack(np.stack(data)[i], axis=-1) for i in range(4)]).reshape((125, 125, 4)))\n",
    "    return dataset"
   ]
  },
  {
   "cell_type": "code",
   "execution_count": 8,
   "id": "0ed68f1d",
   "metadata": {
    "execution": {
     "iopub.execute_input": "2024-03-30T06:06:25.937962Z",
     "iopub.status.busy": "2024-03-30T06:06:25.937611Z",
     "iopub.status.idle": "2024-03-30T06:07:28.524051Z",
     "shell.execute_reply": "2024-03-30T06:07:28.523129Z"
    },
    "papermill": {
     "duration": 62.635581,
     "end_time": "2024-03-30T06:07:28.526532",
     "exception": false,
     "start_time": "2024-03-30T06:06:25.890951",
     "status": "completed"
    },
    "tags": []
   },
   "outputs": [],
   "source": [
    "#TEST DATASET\n",
    "parquet_file_path = '/kaggle/working/top_gun_opendata_1.parquet'\n",
    "test_dataset = process_test_data(parquet_file_path)\n",
    "for i in range(len(test_dataset)):\n",
    "    for j in range(4):\n",
    "        img = test_dataset[\"X_jet\"][i][:, :, :j+1]  \n",
    "        processed_img = process_image(img)\n",
    "        test_dataset[\"X_jet\"][i][:, :, :j+1] = processed_img"
   ]
  },
  {
   "cell_type": "code",
   "execution_count": 9,
   "id": "2d336302",
   "metadata": {
    "execution": {
     "iopub.execute_input": "2024-03-30T06:07:28.610012Z",
     "iopub.status.busy": "2024-03-30T06:07:28.609701Z",
     "iopub.status.idle": "2024-03-30T06:07:29.588820Z",
     "shell.execute_reply": "2024-03-30T06:07:29.587764Z"
    },
    "papermill": {
     "duration": 1.023246,
     "end_time": "2024-03-30T06:07:29.591233",
     "exception": false,
     "start_time": "2024-03-30T06:07:28.567987",
     "status": "completed"
    },
    "tags": []
   },
   "outputs": [
    {
     "data": {
      "image/png": "[encoded data removed]",
      "text/plain": [
       "<Figure size 1600x400 with 4 Axes>"
      ]
     },
     "metadata": {},
     "output_type": "display_data"
    }
   ],
   "source": [
    "#After processing\n",
    "image_data = dataset[\"X_jet\"][100]\n",
    "fig, axes = plt.subplots(1, 4, figsize=(16, 4))  \n",
    "for i in range(image_data.shape[2]):\n",
    "    ax = axes[i]  \n",
    "    channel_data = image_data[:, :, i]  \n",
    "    ax.imshow(channel_data, cmap='viridis')  \n",
    "    ax.set_title(f'Channel {i+1}') \n",
    "plt.tight_layout()  \n",
    "plt.show()"
   ]
  },
  {
   "cell_type": "code",
   "execution_count": 10,
   "id": "fd2716bd",
   "metadata": {
    "execution": {
     "iopub.execute_input": "2024-03-30T06:07:29.720081Z",
     "iopub.status.busy": "2024-03-30T06:07:29.719755Z",
     "iopub.status.idle": "2024-03-30T06:07:40.152375Z",
     "shell.execute_reply": "2024-03-30T06:07:40.151373Z"
    },
    "papermill": {
     "duration": 10.479611,
     "end_time": "2024-03-30T06:07:40.155154",
     "exception": false,
     "start_time": "2024-03-30T06:07:29.675543",
     "status": "completed"
    },
    "tags": []
   },
   "outputs": [],
   "source": [
    "device = torch.device('cuda' if torch.cuda.is_available() else 'cpu')\n",
    "train_dataset, val_dataset = train_test_split(dataset, test_size=0.2, random_state=42)\n",
    "\n",
    "class Config:\n",
    "    model_architecture = 'resnet'\n",
    "    batch_capacity = 98\n",
    "    learning_rate = 1e-5\n",
    "    num_epochs = 25\n",
    "    seed = 42\n",
    "    num_classes = 3\n",
    "\n",
    "    def __init__(self, train_dataset, val_dataset):\n",
    "        self.train_data, self.val_data = train_test_split(train_dataset, test_size=0.2, random_state=self.seed)\n",
    "\n",
    "        X_train_jets = np.stack(self.train_data['X_jet'].apply(np.concatenate).values)\n",
    "        X_val_jets = np.stack(self.val_data['X_jet'].apply(np.concatenate).values)\n",
    "\n",
    "        self.X_train = torch.tensor(X_train_jets, dtype=torch.float32).view(-1, 125, 125, 4)\n",
    "        self.X_val = torch.tensor(X_val_jets, dtype=torch.float32).view(-1, 125, 125, 4)\n",
    "\n",
    "        self.y_train = torch.tensor(pd.to_numeric(self.train_data['m']).values, dtype=torch.float32)\n",
    "        self.y_val = torch.tensor(pd.to_numeric(self.val_data['m']).values, dtype=torch.float32)\n",
    "\n",
    "        features_train = torch.stack([\n",
    "            torch.tensor(self.train_data['ieta'].values, dtype=torch.float32),\n",
    "            torch.tensor(self.train_data['iphi'].values, dtype=torch.float32),\n",
    "            torch.tensor(self.train_data['pt'].values, dtype=torch.float32)\n",
    "        ], dim=1)\n",
    "\n",
    "        features_val = torch.stack([\n",
    "            torch.tensor(self.val_data['ieta'].values, dtype=torch.float32),\n",
    "            torch.tensor(self.val_data['iphi'].values, dtype=torch.float32),\n",
    "            torch.tensor(self.val_data['pt'].values, dtype=torch.float32)\n",
    "        ], dim=1)\n",
    "\n",
    "        self.train_dataset = TensorDataset(self.X_train, features_train, self.y_train)\n",
    "        self.val_dataset = TensorDataset(self.X_val, features_val, self.y_val)\n",
    "\n",
    "        self.train_loader = DataLoader(self.train_dataset, batch_size=self.batch_capacity, shuffle=True)\n",
    "        self.val_loader = DataLoader(self.val_dataset, batch_size=self.batch_capacity, shuffle=True)\n",
    "\n",
    "settings = Config(train_dataset, val_dataset)\n",
    "#Multimodal NN\n",
    "class ConvolutionalModel(nn.Module):\n",
    "    class Block(nn.Module):\n",
    "        def __init__(self, in_planes, planes, stride=1):\n",
    "            super(ConvolutionalModel.Block, self).__init__()\n",
    "            self.conv1 = nn.Conv2d(in_planes, planes, kernel_size=3, stride=stride, padding=1, bias=False)\n",
    "            self.bn1 = nn.BatchNorm2d(planes)\n",
    "            self.conv2 = nn.Conv2d(planes, planes, kernel_size=3, stride=1, padding=1, bias=False)\n",
    "            self.bn2 = nn.BatchNorm2d(planes)\n",
    "\n",
    "            self.shortcut = nn.Sequential()\n",
    "            if stride != 1 or in_planes != planes:\n",
    "                self.shortcut = nn.Sequential(\n",
    "                    nn.Conv2d(in_planes, planes, kernel_size=1, stride=stride, bias=False),\n",
    "                    nn.BatchNorm2d(planes)\n",
    "                )\n",
    "\n",
    "        def forward(self, x):\n",
    "            out = F.relu(self.bn1(self.conv1(x)))\n",
    "            out = self.bn2(self.conv2(out))\n",
    "            out += self.shortcut(x)\n",
    "            out = F.relu(out)\n",
    "            return out\n",
    "\n",
    "    def __init__(self):\n",
    "        super(ConvolutionalModel, self).__init__()\n",
    "        self.in_planes = 64  \n",
    "        self.conv1 = nn.Conv2d(4, 64, kernel_size=3, stride=1, padding=1, bias=False)\n",
    "        self.bn1 = nn.BatchNorm2d(64)\n",
    "        self.relu = nn.ReLU(inplace=True)\n",
    "        self.maxpool = nn.MaxPool2d(kernel_size=3, stride=2, padding=1)\n",
    "\n",
    "        self.layer1 = self._make_layer(self.Block, 64, 2, stride=1)\n",
    "        self.layer2 = self._make_layer(self.Block, 128, 2, stride=2)\n",
    "        self.layer3 = self._make_layer(self.Block, 256, 2, stride=2)\n",
    "\n",
    "        self.fc = nn.Linear(256 * 16 * 16, 256)\n",
    "\n",
    "    def _make_layer(self, block, planes, num_blocks, stride):\n",
    "        strides = [stride] + [1] * (num_blocks - 1)\n",
    "        layers = []\n",
    "        for stride in strides:\n",
    "            layers.append(block(self.in_planes, planes, stride))\n",
    "            self.in_planes = planes\n",
    "        return nn.Sequential(*layers)\n",
    "\n",
    "    def forward(self, x):\n",
    "        x = self.relu(self.bn1(self.conv1(x)))\n",
    "        x = self.maxpool(x)\n",
    "\n",
    "        x = self.layer1(x)\n",
    "        x = self.layer2(x)\n",
    "        x = self.layer3(x)\n",
    "\n",
    "        x = torch.flatten(x, 1)\n",
    "        x = self.fc(x)\n",
    "        return x\n",
    "\n",
    "class NeuralNetwork(nn.Module):\n",
    "    def __init__(self):\n",
    "        super(NeuralNetwork, self).__init__()\n",
    "        self.fc1 = nn.Linear(3, 64)\n",
    "        self.fc2 = nn.Linear(64, 128)\n",
    "        self.fc3 = nn.Linear(128, 256)\n",
    "\n",
    "    def forward(self, x):\n",
    "        x = F.relu(self.fc1(x))\n",
    "        x = F.relu(self.fc2(x))\n",
    "        x = F.relu(self.fc3(x))\n",
    "        return x\n",
    "\n",
    "class CombinedModel(nn.Module):\n",
    "    def __init__(self, num_classes=1):\n",
    "        super(CombinedModel, self).__init__()\n",
    "        self.conv_model = ConvolutionalModel()\n",
    "        self.nn_model = NeuralNetwork()\n",
    "        self.fc1 = nn.Linear(512, 256)\n",
    "        self.fc2 = nn.Linear(256, num_classes)\n",
    "\n",
    "    def forward(self, images, features):\n",
    "        conv_out = self.conv_model(images)\n",
    "        nn_out = self.nn_model(features)\n",
    "        combined = torch.cat((conv_out, nn_out), dim=1)\n",
    "        combined = F.relu(self.fc1(combined))\n",
    "        output = self.fc2(combined)\n",
    "        return output.squeeze()\n",
    "\n",
    "model_combined = CombinedModel().to(device)\n",
    "if torch.cuda.device_count() > 1:\n",
    "    model_combined = nn.DataParallel(model_combined)\n",
    "model_combined = model_combined.to(device)\n",
    "optimizer_combined = optim.Adam(model_combined.parameters(), lr=settings.learning_rate)\n",
    "criterion_combined = nn.MSELoss()\n",
    "scheduler_combined = CosineAnnealingLR(optimizer_combined, T_max=25, eta_min=1e-7)"
   ]
  },
  {
   "cell_type": "code",
   "execution_count": 11,
   "id": "9289f8c9",
   "metadata": {
    "execution": {
     "iopub.execute_input": "2024-03-30T06:07:40.240364Z",
     "iopub.status.busy": "2024-03-30T06:07:40.239826Z",
     "iopub.status.idle": "2024-03-30T06:19:06.498897Z",
     "shell.execute_reply": "2024-03-30T06:19:06.498002Z"
    },
    "papermill": {
     "duration": 686.304151,
     "end_time": "2024-03-30T06:19:06.501184",
     "exception": false,
     "start_time": "2024-03-30T06:07:40.197033",
     "status": "completed"
    },
    "tags": []
   },
   "outputs": [
    {
     "name": "stdout",
     "output_type": "stream",
     "text": [
      "Epoch 1/25\n",
      "9798/9798 ━━━━━━━━━━━━━━━━━━━━━━━━━━━━━━━━━━━━━━━━━━━━━━━━━━━┳━ 100.00% Loss: 2858.03\n",
      "Epoch 1/25\n",
      "2450/2450 ━━━━━━━━━━━━━━━━━━━━━━━━━━━━━━━━━━━━━━━━━━━━━━━━━━━┳━ 100.00%\n",
      "Train Loss: 11495.5599, Val Loss: 2536.4856\n",
      "Epoch 2/25\n"
     ]
    },
    {
     "name": "stderr",
     "output_type": "stream",
     "text": [
      "/opt/conda/lib/python3.10/site-packages/torch/optim/lr_scheduler.py:149: UserWarning: The epoch parameter in `scheduler.step()` was not necessary and is being deprecated where possible. Please use `scheduler.step()` to step the scheduler. During the deprecation, if epoch is different from None, the closed form is used instead of the new chainable form, where available. Please open an issue if you are unable to replicate your use case: https://github.com/pytorch/pytorch/issues/new/choose.\n",
      "  warnings.warn(EPOCH_DEPRECATION_WARNING, UserWarning)\n"
     ]
    },
    {
     "name": "stdout",
     "output_type": "stream",
     "text": [
      "9798/9798 ━━━━━━━━━━━━━━━━━━━━━━━━━━━━━━━━━━━━━━━━━━━━━━━━━━━┳━ 100.00% Loss: 2306.42\n",
      "Epoch 2/25\n",
      "2450/2450 ━━━━━━━━━━━━━━━━━━━━━━━━━━━━━━━━━━━━━━━━━━━━━━━━━━━┳━ 100.00%\n",
      "Train Loss: 2461.4396, Val Loss: 2393.9893\n",
      "Epoch 3/25\n",
      "9798/9798 ━━━━━━━━━━━━━━━━━━━━━━━━━━━━━━━━━━━━━━━━━━━━━━━━━━━┳━ 100.00% Loss: 1934.74\n",
      "Epoch 3/25\n",
      "2450/2450 ━━━━━━━━━━━━━━━━━━━━━━━━━━━━━━━━━━━━━━━━━━━━━━━━━━━┳━ 100.00%\n",
      "Train Loss: 2101.6415, Val Loss: 1868.6388\n",
      "Epoch 4/25\n",
      "9798/9798 ━━━━━━━━━━━━━━━━━━━━━━━━━━━━━━━━━━━━━━━━━━━━━━━━━━━┳━ 100.00% Loss: 1863.26\n",
      "Epoch 4/25\n",
      "2450/2450 ━━━━━━━━━━━━━━━━━━━━━━━━━━━━━━━━━━━━━━━━━━━━━━━━━━━┳━ 100.00%\n",
      "Train Loss: 1829.6711, Val Loss: 1824.1108\n",
      "Epoch 5/25\n",
      "9798/9798 ━━━━━━━━━━━━━━━━━━━━━━━━━━━━━━━━━━━━━━━━━━━━━━━━━━━┳━ 100.00% Loss: 1724.86\n",
      "Epoch 5/25\n",
      "2450/2450 ━━━━━━━━━━━━━━━━━━━━━━━━━━━━━━━━━━━━━━━━━━━━━━━━━━━┳━ 100.00%\n",
      "Train Loss: 1802.0264, Val Loss: 1822.2120\n",
      "Epoch 6/25\n",
      "9798/9798 ━━━━━━━━━━━━━━━━━━━━━━━━━━━━━━━━━━━━━━━━━━━━━━━━━━━┳━ 100.00% Loss: 1523.56\n",
      "Epoch 6/25\n",
      "2450/2450 ━━━━━━━━━━━━━━━━━━━━━━━━━━━━━━━━━━━━━━━━━━━━━━━━━━━┳━ 100.00%\n",
      "Train Loss: 1798.9701, Val Loss: 1813.1454\n",
      "Epoch 7/25\n",
      "9798/9798 ━━━━━━━━━━━━━━━━━━━━━━━━━━━━━━━━━━━━━━━━━━━━━━━━━━━┳━ 100.00% Loss: 2042.74\n",
      "Epoch 7/25\n",
      "2450/2450 ━━━━━━━━━━━━━━━━━━━━━━━━━━━━━━━━━━━━━━━━━━━━━━━━━━━┳━ 100.00%\n",
      "Train Loss: 1762.3257, Val Loss: 1755.1097\n",
      "Epoch 8/25\n",
      "9798/9798 ━━━━━━━━━━━━━━━━━━━━━━━━━━━━━━━━━━━━━━━━━━━━━━━━━━━┳━ 100.00% Loss: 1746.47\n",
      "Epoch 8/25\n",
      "2450/2450 ━━━━━━━━━━━━━━━━━━━━━━━━━━━━━━━━━━━━━━━━━━━━━━━━━━━┳━ 100.00%\n",
      "Train Loss: 1660.8036, Val Loss: 2032.7968\n",
      "Epoch 9/25\n",
      "9798/9798 ━━━━━━━━━━━━━━━━━━━━━━━━━━━━━━━━━━━━━━━━━━━━━━━━━━━┳━ 100.00% Loss: 1820.53\n",
      "Epoch 9/25\n",
      "2450/2450 ━━━━━━━━━━━━━━━━━━━━━━━━━━━━━━━━━━━━━━━━━━━━━━━━━━━┳━ 100.00%\n",
      "Train Loss: 1566.8038, Val Loss: 1589.7367\n",
      "Epoch 10/25\n",
      "9798/9798 ━━━━━━━━━━━━━━━━━━━━━━━━━━━━━━━━━━━━━━━━━━━━━━━━━━━┳━ 100.00% Loss: 2033.01\n",
      "Epoch 10/25\n",
      "2450/2450 ━━━━━━━━━━━━━━━━━━━━━━━━━━━━━━━━━━━━━━━━━━━━━━━━━━━┳━ 100.00%\n",
      "Train Loss: 1532.1879, Val Loss: 1586.0135\n",
      "Epoch 11/25\n",
      "9798/9798 ━━━━━━━━━━━━━━━━━━━━━━━━━━━━━━━━━━━━━━━━━━━━━━━━━━━┳━ 100.00% Loss: 1509.49\n",
      "Epoch 11/25\n",
      "2450/2450 ━━━━━━━━━━━━━━━━━━━━━━━━━━━━━━━━━━━━━━━━━━━━━━━━━━━┳━ 100.00%\n",
      "Train Loss: 1473.9137, Val Loss: 1549.7741\n",
      "Epoch 12/25\n",
      "9798/9798 ━━━━━━━━━━━━━━━━━━━━━━━━━━━━━━━━━━━━━━━━━━━━━━━━━━━┳━ 100.00% Loss: 1250.78\n",
      "Epoch 12/25\n",
      "2450/2450 ━━━━━━━━━━━━━━━━━━━━━━━━━━━━━━━━━━━━━━━━━━━━━━━━━━━┳━ 100.00%\n",
      "Train Loss: 1431.1464, Val Loss: 1478.9325\n",
      "Epoch 13/25\n",
      "9798/9798 ━━━━━━━━━━━━━━━━━━━━━━━━━━━━━━━━━━━━━━━━━━━━━━━━━━━┳━ 100.00% Loss: 1714.23\n",
      "Epoch 13/25\n",
      "2450/2450 ━━━━━━━━━━━━━━━━━━━━━━━━━━━━━━━━━━━━━━━━━━━━━━━━━━━┳━ 100.00%\n",
      "Train Loss: 1345.4259, Val Loss: 1457.0668\n",
      "Epoch 14/25\n",
      "9798/9798 ━━━━━━━━━━━━━━━━━━━━━━━━━━━━━━━━━━━━━━━━━━━━━━━━━━━┳━ 100.00% Loss: 1439.31\n",
      "Epoch 14/25\n",
      "2450/2450 ━━━━━━━━━━━━━━━━━━━━━━━━━━━━━━━━━━━━━━━━━━━━━━━━━━━┳━ 100.00%\n",
      "Train Loss: 1339.4493, Val Loss: 1949.1093\n",
      "Epoch 15/25\n",
      "9798/9798 ━━━━━━━━━━━━━━━━━━━━━━━━━━━━━━━━━━━━━━━━━━━━━━━━━━━┳━ 100.00% Loss: 1102.71\n",
      "Epoch 15/25\n",
      "2450/2450 ━━━━━━━━━━━━━━━━━━━━━━━━━━━━━━━━━━━━━━━━━━━━━━━━━━━┳━ 100.00%\n",
      "Train Loss: 1274.4248, Val Loss: 1552.8393\n",
      "Epoch 16/25\n",
      "9798/9798 ━━━━━━━━━━━━━━━━━━━━━━━━━━━━━━━━━━━━━━━━━━━━━━━━━━━┳━ 100.00% Loss: 1272.15\n",
      "Epoch 16/25\n",
      "2450/2450 ━━━━━━━━━━━━━━━━━━━━━━━━━━━━━━━━━━━━━━━━━━━━━━━━━━━┳━ 100.00%\n",
      "Train Loss: 1187.8590, Val Loss: 1465.6596\n",
      "Epoch 17/25\n",
      "9798/9798 ━━━━━━━━━━━━━━━━━━━━━━━━━━━━━━━━━━━━━━━━━━━━━━━━━━━┳━ 100.00% Loss: 1120.37\n",
      "Epoch 17/25\n",
      "2450/2450 ━━━━━━━━━━━━━━━━━━━━━━━━━━━━━━━━━━━━━━━━━━━━━━━━━━━┳━ 100.00%\n",
      "Train Loss: 1066.9299, Val Loss: 1482.8610\n",
      "Epoch 18/25\n",
      "9798/9798 ━━━━━━━━━━━━━━━━━━━━━━━━━━━━━━━━━━━━━━━━━━━━━━━━━━━┳━ 100.00% Loss: 816.68\n",
      "Epoch 18/25\n",
      "2450/2450 ━━━━━━━━━━━━━━━━━━━━━━━━━━━━━━━━━━━━━━━━━━━━━━━━━━━┳━ 100.00%\n",
      "Train Loss: 1011.2618, Val Loss: 1457.1254\n",
      "Epoch 19/25\n",
      "9798/9798 ━━━━━━━━━━━━━━━━━━━━━━━━━━━━━━━━━━━━━━━━━━━━━━━━━━━┳━ 100.00% Loss: 879.64\n",
      "Epoch 19/25\n",
      "2450/2450 ━━━━━━━━━━━━━━━━━━━━━━━━━━━━━━━━━━━━━━━━━━━━━━━━━━━┳━ 100.00%\n",
      "Train Loss: 1005.5661, Val Loss: 2819.9117\n",
      "Epoch 20/25\n",
      "9798/9798 ━━━━━━━━━━━━━━━━━━━━━━━━━━━━━━━━━━━━━━━━━━━━━━━━━━━┳━ 100.00% Loss: 1123.03\n",
      "Epoch 20/25\n",
      "2450/2450 ━━━━━━━━━━━━━━━━━━━━━━━━━━━━━━━━━━━━━━━━━━━━━━━━━━━┳━ 100.00%\n",
      "Train Loss: 886.2136, Val Loss: 1490.8079\n",
      "Epoch 21/25\n",
      "9798/9798 ━━━━━━━━━━━━━━━━━━━━━━━━━━━━━━━━━━━━━━━━━━━━━━━━━━━┳━ 100.00% Loss: 731.63\n",
      "Epoch 21/25\n",
      "2450/2450 ━━━━━━━━━━━━━━━━━━━━━━━━━━━━━━━━━━━━━━━━━━━━━━━━━━━┳━ 100.00%\n",
      "Train Loss: 894.1768, Val Loss: 1728.8391\n",
      "Epoch 22/25\n",
      "9798/9798 ━━━━━━━━━━━━━━━━━━━━━━━━━━━━━━━━━━━━━━━━━━━━━━━━━━━┳━ 100.00% Loss: 907.94\n",
      "Epoch 22/25\n",
      "2450/2450 ━━━━━━━━━━━━━━━━━━━━━━━━━━━━━━━━━━━━━━━━━━━━━━━━━━━┳━ 100.00%\n",
      "Train Loss: 773.0879, Val Loss: 1527.2325\n",
      "Epoch 23/25\n",
      "9798/9798 ━━━━━━━━━━━━━━━━━━━━━━━━━━━━━━━━━━━━━━━━━━━━━━━━━━━┳━ 100.00% Loss: 656.23\n",
      "Epoch 23/25\n",
      "2450/2450 ━━━━━━━━━━━━━━━━━━━━━━━━━━━━━━━━━━━━━━━━━━━━━━━━━━━┳━ 100.00%\n",
      "Train Loss: 763.0711, Val Loss: 1541.2888\n",
      "Epoch 24/25\n",
      "9798/9798 ━━━━━━━━━━━━━━━━━━━━━━━━━━━━━━━━━━━━━━━━━━━━━━━━━━━┳━ 100.00% Loss: 754.34\n",
      "Epoch 24/25\n",
      "2450/2450 ━━━━━━━━━━━━━━━━━━━━━━━━━━━━━━━━━━━━━━━━━━━━━━━━━━━┳━ 100.00%\n",
      "Train Loss: 790.4132, Val Loss: 1572.1576\n",
      "Epoch 25/25\n",
      "9798/9798 ━━━━━━━━━━━━━━━━━━━━━━━━━━━━━━━━━━━━━━━━━━━━━━━━━━━┳━ 100.00% Loss: 633.20\n",
      "Epoch 25/25\n",
      "2450/2450 ━━━━━━━━━━━━━━━━━━━━━━━━━━━━━━━━━━━━━━━━━━━━━━━━━━━┳━ 100.00%\n",
      "Train Loss: 687.8632, Val Loss: 1597.4897\n",
      "Average loss: 649.5648193359375\n"
     ]
    }
   ],
   "source": [
    "train_losses_combined = []\n",
    "val_losses_combined = []\n",
    "mae_losses_combined = []\n",
    "mre_losses_combined = []\n",
    "\n",
    "best_val_loss_combined = float('inf')\n",
    "best_mre_combined = float('inf')\n",
    "best_val_loss_model_combined = None\n",
    "best_mre_model_combined = None\n",
    "\n",
    "for epoch in range(settings.num_epochs):\n",
    "    model_combined.train()\n",
    "    train_loss_combined = 0.0\n",
    "    train_preds_list_combined = []\n",
    "\n",
    "    train_batches = len(settings.train_loader)\n",
    "    train_batch_size = settings.train_loader.batch_size\n",
    "    \n",
    "    print(f'Epoch {epoch + 1}/{settings.num_epochs}')\n",
    "    for batch_idx, (images, features, labels) in enumerate(settings.train_loader):\n",
    "        images, features, labels = images.to(device), features.to(device), labels.to(device)\n",
    "        images = images.permute(0, 3, 1, 2)\n",
    "\n",
    "        optimizer_combined.zero_grad()\n",
    "\n",
    "        outputs_combined = model_combined(images, features)\n",
    "        loss_combined = criterion_combined(outputs_combined, labels)\n",
    "        loss_combined.backward()\n",
    "        optimizer_combined.step()\n",
    "\n",
    "        train_loss_combined += loss_combined.item()\n",
    "        train_preds_list_combined.append(outputs_combined.detach().cpu().numpy())\n",
    "\n",
    "        current_batch = min((batch_idx + 1) * train_batch_size, len(settings.train_loader.dataset))\n",
    "        total_batches = len(settings.train_loader.dataset)\n",
    "        progress = current_batch / total_batches\n",
    "        progress_bar_length = 50\n",
    "        completed_length = int(progress * progress_bar_length)\n",
    "        remaining_length = progress_bar_length - completed_length\n",
    "        arrow_position = int(progress_bar_length * progress)\n",
    "        progress_bar = f'{current_batch}/{total_batches} ━' + '━' * completed_length + '┳' + '━' * remaining_length + '━'\n",
    "        print(f'\\r{progress_bar} {100 * progress:.2f}% Loss: {loss_combined.item():.2f}', end='', flush=True)\n",
    "    print()\n",
    "    \n",
    "    train_loss_combined /= len(settings.train_loader)\n",
    "    train_preds_combined = np.concatenate(train_preds_list_combined)\n",
    "\n",
    "    model_combined.eval()\n",
    "    val_loss_combined = 0.0\n",
    "\n",
    "    val_batches = len(settings.val_loader)\n",
    "    val_batch_size = settings.val_loader.batch_size\n",
    "\n",
    "    print(f'Epoch {epoch + 1}/{settings.num_epochs}')\n",
    "    for batch_idx, (images, features, labels) in enumerate(settings.val_loader):\n",
    "        images, features = images.to(device), features.to(device)\n",
    "        images = images.permute(0, 3, 1, 2)\n",
    "        val_labels_combined = labels.to(device)\n",
    "        val_outputs_combined = model_combined(images, features)\n",
    "        val_loss_combined += criterion_combined(val_outputs_combined, val_labels_combined).item()\n",
    "\n",
    "        # Custom progress bar\n",
    "        current_batch = min((batch_idx + 1) * val_batch_size, len(settings.val_loader.dataset))\n",
    "        total_batches = len(settings.val_loader.dataset)\n",
    "        progress = current_batch / total_batches\n",
    "        progress_bar_length = 50\n",
    "        completed_length = int(progress * progress_bar_length)\n",
    "        remaining_length = progress_bar_length - completed_length\n",
    "        arrow_position = int(progress_bar_length * progress)\n",
    "        progress_bar = f'{current_batch}/{total_batches} ━' + '━' * completed_length + '┳' + '━' * remaining_length + '━'\n",
    "        print(f'\\r{progress_bar} {100 * progress:.2f}%', end='', flush=True)\n",
    "    print()\n",
    "\n",
    "    val_loss_combined /= len(settings.val_loader)\n",
    "\n",
    "    train_losses_combined.append(train_loss_combined)\n",
    "    val_losses_combined.append(val_loss_combined)\n",
    "\n",
    "    scheduler_combined.step(val_loss_combined)  # Step the LR scheduler\n",
    "\n",
    "    if val_loss_combined < best_val_loss_combined:\n",
    "        best_val_loss_combined = val_loss_combined\n",
    "        best_val_loss_model_combined = model_combined.state_dict()\n",
    "\n",
    "    print(f\"Train Loss: {train_loss_combined:.4f}, Val Loss: {val_loss_combined:.4f}\")\n",
    "\n",
    "torch.save(best_val_loss_model_combined, 'weights.pth')\n",
    "checkpoint_combined = torch.load(\"weights.pth\")\n",
    "model_combined = CombinedModel()\n",
    "if torch.cuda.device_count() > 1:\n",
    "    model_combined = nn.DataParallel(model_combined)\n",
    "model_combined.load_state_dict(checkpoint_combined)\n",
    "model_combined = model_combined.to(device)\n",
    "model_combined.eval()\n",
    "\n",
    "y_true_combined = []\n",
    "y_pred_combined = []\n",
    "\n",
    "with torch.no_grad():\n",
    "    for images, features, target in settings.train_loader:\n",
    "        images, features, target = images.to(device), features.to(device), target.to(device)\n",
    "        images = images.permute(0, 3, 1, 2)\n",
    "        output_combined = model_combined(images, features)\n",
    "        y_true_combined.extend(target.cpu().numpy().tolist())\n",
    "        y_pred_combined.extend(output_combined.cpu().numpy().tolist())\n",
    "\n",
    "print(f\"Average loss: {criterion_combined(torch.tensor(y_pred_combined), torch.tensor(y_true_combined))}\")\n",
    "\n",
    "model_combined.eval()\n",
    "y_true_combined = []\n",
    "y_pred_combined = []\n",
    "\n",
    "with torch.no_grad():\n",
    "    for batch_idx, (images, features, target) in enumerate(settings.val_loader):\n",
    "        images, features, target = images.to(device), features.to(device), target.to(device)\n",
    "        images = images.permute(0, 3, 1, 2)\n",
    "        output_combined = model_combined(images, features)\n",
    "\n",
    "        y_true_combined.extend(target.cpu().numpy().tolist())\n",
    "        y_pred_combined.extend(output_combined.cpu().numpy().tolist())"
   ]
  },
  {
   "cell_type": "code",
   "execution_count": 12,
   "id": "99190789",
   "metadata": {
    "execution": {
     "iopub.execute_input": "2024-03-30T06:19:07.088920Z",
     "iopub.status.busy": "2024-03-30T06:19:07.088519Z",
     "iopub.status.idle": "2024-03-30T06:19:07.328331Z",
     "shell.execute_reply": "2024-03-30T06:19:07.327396Z"
    },
    "papermill": {
     "duration": 0.537412,
     "end_time": "2024-03-30T06:19:07.330204",
     "exception": false,
     "start_time": "2024-03-30T06:19:06.792792",
     "status": "completed"
    },
    "tags": []
   },
   "outputs": [
    {
     "data": {
      "image/png": "[encoded data removed]",
      "text/plain": [
       "<Figure size 600x400 with 1 Axes>"
      ]
     },
     "metadata": {},
     "output_type": "display_data"
    }
   ],
   "source": [
    "# Plotting training and validation loss curves\n",
    "plt.figure(figsize=(6, 4))\n",
    "plt.plot(train_losses_combined, label='Training Loss')\n",
    "plt.plot(val_losses_combined, label='Validation Loss')\n",
    "plt.title('Training and Validation Loss')\n",
    "plt.xlabel('Epochs')\n",
    "plt.ylabel('Loss')\n",
    "plt.legend()\n",
    "plt.show()"
   ]
  },
  {
   "cell_type": "code",
   "execution_count": 13,
   "id": "0951809c",
   "metadata": {
    "execution": {
     "iopub.execute_input": "2024-03-30T06:19:07.922328Z",
     "iopub.status.busy": "2024-03-30T06:19:07.921656Z",
     "iopub.status.idle": "2024-03-30T06:19:13.504665Z",
     "shell.execute_reply": "2024-03-30T06:19:13.503744Z"
    },
    "papermill": {
     "duration": 5.882175,
     "end_time": "2024-03-30T06:19:13.506882",
     "exception": false,
     "start_time": "2024-03-30T06:19:07.624707",
     "status": "completed"
    },
    "tags": []
   },
   "outputs": [
    {
     "name": "stdout",
     "output_type": "stream",
     "text": [
      "Mean Squared Error (MSE) on test dataset: 1626.389115844128\n",
      "Mean Absolute Error (MAE) on test dataset: 32.22285861178238\n"
     ]
    }
   ],
   "source": [
    "X_test_jets = np.stack(test_dataset['X_jet'].apply(np.concatenate).values)\n",
    "X_test = torch.tensor(X_test_jets, dtype=torch.float32).view(-1, 125, 125, 4)\n",
    "\n",
    "test_features = torch.stack([\n",
    "    torch.tensor(test_dataset['ieta'].values, dtype=torch.float32),\n",
    "    torch.tensor(test_dataset['iphi'].values, dtype=torch.float32),\n",
    "    torch.tensor(test_dataset['pt'].values, dtype=torch.float32)\n",
    "], dim=1)\n",
    "\n",
    "test_labels = torch.tensor(pd.to_numeric(test_dataset['m']).values, dtype=torch.float32)\n",
    "test_dataset = TensorDataset(X_test, test_features, test_labels)\n",
    "test_loader = DataLoader(test_dataset, batch_size=settings.batch_capacity, shuffle=False)\n",
    "\n",
    "model_combined = CombinedModel()\n",
    "if torch.cuda.device_count() > 1:\n",
    "    model_combined = nn.DataParallel(model_combined)\n",
    "model_combined.load_state_dict(checkpoint_combined)\n",
    "model_combined = model_combined.to(device)\n",
    "model_combined.eval()\n",
    "\n",
    "predictions = []\n",
    "true_labels = []\n",
    "with torch.no_grad():\n",
    "    for images, features, labels in test_loader:\n",
    "        images, features = images.to(device), features.to(device)\n",
    "        images = images.permute(0, 3, 1, 2)\n",
    "        outputs = model_combined(images, features)\n",
    "        predictions.extend(outputs.cpu().numpy().tolist())\n",
    "        true_labels.extend(labels.cpu().numpy().tolist())\n",
    "\n",
    "mse = mean_squared_error(true_labels, predictions)\n",
    "print(f\"Mean Squared Error (MSE) on test dataset: {mse}\")\n",
    "mae = mean_absolute_error(true_labels, predictions)\n",
    "print(f\"Mean Absolute Error (MAE) on test dataset: {mae}\")"
   ]
  },
  {
   "cell_type": "code",
   "execution_count": null,
   "id": "76b41b29",
   "metadata": {
    "papermill": {
     "duration": 0.292613,
     "end_time": "2024-03-30T06:19:14.136671",
     "exception": false,
     "start_time": "2024-03-30T06:19:13.844058",
     "status": "completed"
    },
    "tags": []
   },
   "outputs": [],
   "source": []
  }
 ],
 "metadata": {
  "kaggle": {
   "accelerator": "nvidiaTeslaT4",
   "dataSources": [],
   "dockerImageVersionId": 30673,
   "isGpuEnabled": true,
   "isInternetEnabled": true,
   "language": "python",
   "sourceType": "notebook"
  },
  "kernelspec": {
   "display_name": "Python 3",
   "language": "python",
   "name": "python3"
  },
  "language_info": {
   "codemirror_mode": {
    "name": "ipython",
    "version": 3
   },
   "file_extension": ".py",
   "mimetype": "text/x-python",
   "name": "python",
   "nbconvert_exporter": "python",
   "pygments_lexer": "ipython3",
   "version": "3.10.13"
  },
  "papermill": {
   "default_parameters": {},
   "duration": 1228.898241,
   "end_time": "2024-03-30T06:19:17.912502",
   "environment_variables": {},
   "exception": null,
   "input_path": "__notebook__.ipynb",
   "output_path": "__notebook__.ipynb",
   "parameters": {},
   "start_time": "2024-03-30T05:58:49.014261",
   "version": "2.5.0"
  }
 },
 "nbformat": 4,
 "nbformat_minor": 5
}
